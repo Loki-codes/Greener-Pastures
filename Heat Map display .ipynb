{
 "cells": [
  {
   "cell_type": "code",
   "execution_count": null,
   "metadata": {},
   "outputs": [],
   "source": [
    "import os\n",
    "from scipy.misc import imread\n",
    "\n"
   ]
  },
  {
   "cell_type": "code",
   "execution_count": null,
   "metadata": {},
   "outputs": [],
   "source": [
    "img_files = [for f in os.listdir('.') if f[-3:] == 'png']\n",
    "\n",
    "# redraw_fn draw frame f in a image sequence\n",
    "def redraw_fn(f, axes):\n",
    "    img_file = img_files[f]\n",
    "    img = imread(img_file)\n",
    "    if not redraw_fn.initialized:\n",
    "        redraw_fn.im = axes.imshow(img, animated=True)\n",
    "        redraw_fn.initialized = True\n",
    "    else:\n",
    "        redraw_fn.im.set_array(img)\n",
    "redraw_fn.initialized = False\n",
    "\n",
    "videofig(len(img_files), redraw_fn, play_fps=30)\n"
   ]
  }
 ],
 "metadata": {
  "kernelspec": {
   "display_name": "Python 3",
   "language": "python",
   "name": "python3"
  },
  "language_info": {
   "codemirror_mode": {
    "name": "ipython",
    "version": 3
   },
   "file_extension": ".py",
   "mimetype": "text/x-python",
   "name": "python",
   "nbconvert_exporter": "python",
   "pygments_lexer": "ipython3",
   "version": "3.8.5"
  }
 },
 "nbformat": 4,
 "nbformat_minor": 4
}
