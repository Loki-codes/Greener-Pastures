{
 "cells": [
  {
   "cell_type": "code",
   "execution_count": 2,
   "metadata": {},
   "outputs": [],
   "source": [
    "\n",
    "# Dependencies and Setup\n",
    "import matplotlib.pyplot as plt\n",
    "import pandas as pd\n",
    "import numpy as np\n",
    "import requests\n",
    "import gmaps\n",
    "import os\n",
    "\n",
    "# input csv\n",
    "ALL_DATA_csvpath = \"../output_files/MegaDf.csv\"\n",
    "\n",
    "#import pretty print\n",
    "import pprint as pprint\n",
    "\n",
    "#for sleep\n",
    "import time"
   ]
  },
  {
   "cell_type": "code",
   "execution_count": 3,
   "metadata": {},
   "outputs": [],
   "source": [
    "ALL_DATA_csv = pd.read_csv(ALL_DATA_csvpath,index_col=0)"
   ]
  },
  {
   "cell_type": "code",
   "execution_count": 11,
   "metadata": {},
   "outputs": [
    {
     "name": "stdout",
     "output_type": "stream",
     "text": [
      "1: Architecture and engineering occupations\n",
      "2: Arts, design, entertainment, sports, and media occupations\n",
      "3: Building and grounds cleaning and maintenance occupations\n",
      "4: Business and financial operations occupations\n",
      "5: Community and social service occupations\n",
      "6: Computer and mathematical occupations\n",
      "7: Construction and extraction occupations\n",
      "8: Educational instruction and library occupations\n",
      "9: Food preparation and serving related occupations\n",
      "10: Healthcare practitioners and technical occupations\n",
      "11: Healthcare support occupations\n",
      "12: Installation, maintenance, and repair occupations\n",
      "13: Legal occupations\n",
      "14: Life, physical, and social science occupations\n",
      "15: Management occupations\n",
      "16: Office and administrative support occupations\n",
      "17: Personal care and service occupations\n",
      "18: Production occupations\n",
      "19: Protective service occupations\n",
      "20: Sales and related occupations\n",
      "21: Transportation and material moving occupations\n",
      "Which career field are you looking for information on?  Please input the career ID #: 1\n",
      "-----------------------------------------------------------------------\n",
      "\n",
      "Valid choice. Good luck in your new venture in Architecture and engineering occupations\n"
     ]
    }
   ],
   "source": [
    "# Set occupation here\n",
    "ALL_DATA_df_collist_no_occ = [col for col in ALL_DATA_csv.columns.tolist() if \"occupations\" not in col]\n",
    "ALL_DATA_df_occ_collist = [col for col in ALL_DATA_csv.columns.tolist() if \"occupations\" in col\\\n",
    "                             if \"RANK\" not in col]\n",
    "global careerList\n",
    "careerList={}\n",
    "for key in range(1,len(ALL_DATA_df_occ_collist)+1):\n",
    "    careerList[str(key)] = ALL_DATA_df_occ_collist[key-1]\n",
    "     \n",
    "    \n",
    "def jbReq():\n",
    "    for i in list(careerList.keys()):\n",
    "        print(f\"{i}: {careerList[i]}\")\n",
    "    global OCC_CHOICE\n",
    "    OCC_CHOICE = input(\"Which career field are you looking for information on?  Please input the career ID #: \")\n",
    "    try:\n",
    "        careerList[OCC_CHOICE]\n",
    "        print(\"-----------------------------------------------------------------------\\n\")\n",
    "        print(f\"Valid choice. Good luck in your new venture in {careerList[OCC_CHOICE]}\")\n",
    "    except:\n",
    "        print(\"-----------------------------------------------------------------------\\n\")\n",
    "        print(\"No career found with that ID # please reference the list and try again.\")\n",
    "        print(\"-----------------------------------------------------------------------\\n\")\n",
    "        jbReq()\n",
    "#################################################### \n",
    "jbReq() #Actually run the function now\n",
    "ALL_DATA_df_collist_oneocc = ALL_DATA_df_collist_no_occ + [careerList[OCC_CHOICE]] + [careerList[OCC_CHOICE]+\"_RANK\"]"
   ]
  },
  {
   "cell_type": "code",
   "execution_count": 6,
   "metadata": {},
   "outputs": [],
   "source": [
    "# Limit the dataframe's occupation sections based on user choice.\n",
    "USER_CHOICE_df = ALL_DATA_csv[ALL_DATA_df_collist_oneocc].reset_index(drop=True)\n",
    "\n",
    "# Add the ranked column for the occupation to the overall score, and re-rank the overall score for overall rank.\n",
    "USER_CHOICE_df[\"Overall_SCORE\"] = USER_CHOICE_df[\"overall_SCORE\"] + USER_CHOICE_df[careerList[OCC_CHOICE] +\"_RANK\"]\n",
    "USER_CHOICE_df[\"Overall_RANK\"] = USER_CHOICE_df[\"Overall_SCORE\"].rank()"
   ]
  },
  {
   "cell_type": "code",
   "execution_count": 7,
   "metadata": {},
   "outputs": [],
   "source": [
    "USER_CHOICE_df[\"OCC CHOICE\"] = careerList[OCC_CHOICE]\n",
    "USER_CHOICE_df[\"OCC VALUE\"] = USER_CHOICE_df[careerList[OCC_CHOICE]]\n",
    "USER_CHOICE_df[\"OCC VALUE R\"]=USER_CHOICE_df[careerList[OCC_CHOICE] +\"_RANK\"]"
   ]
  },
  {
   "cell_type": "code",
   "execution_count": 8,
   "metadata": {},
   "outputs": [],
   "source": [
    "# NOTE: Do not change any of the code in this cell\n",
    "# {OCC CHOICE}{OCC VALUE}\n",
    "# Using the template add the hotel marks to the heatmap\n",
    "info_box_template = \"\"\"\n",
    "<dl>\n",
    "<dt>City (Overall Rank)</dt><dd>{City Name},{stateabbrev} ({overall_RANK})</dd>\n",
    "<dt>City Population (Rank)</dt><dd>{city_pop2019} ({city_pop2019_RANK})</dd>\n",
    "<dt>Expected Hourly Wage for {OCC CHOICE} (Rank)</dt><dd>{OCC VALUE} ({OCC VALUE R})</dd>\n",
    "<dt>% Change in Businesses Active since Jan 19 (Rank)</dt><dd>{merchants_all} ({merchants_all_RANK})</dd>\n",
    "<dt>New Case Rate - Covid (Rank)</dt><dd>{new_case_rate} ({new_case_rate_RANK})</dd>\n",
    "<dt>% Change in Job Postings since Jan 19 (Rank)</dt><dd>{bg_posts} ({bg_posts_RANK})</dd>\n",
    "<dt>Avg. Cost of Living (Rank)</dt><dd>{Average Cost of Living } ({Average Cost of Living _RANK})</dd>\n",
    "<dt>Avg. Nearby Park Rating (Rank)</dt><dd>{Park Score} ({Park Score_RANK})</dd>\n",
    "<dt>Avg. Nearby Hospital Rating (Rank)</dt><dd>{Health score} ({Health score_RANK})</dd>\n",
    "\n",
    "</dl>\n",
    "\"\"\"\n",
    "# Store the DataFrame Row\n",
    "# NOTE: be sure to update with your DataFrame name\n",
    "ALL_DATA_info = [info_box_template.format(**row) for index, row in USER_CHOICE_df.iterrows()]\n",
    "locations = USER_CHOICE_df[[\"lat\", \"lon\"]]"
   ]
  },
  {
   "cell_type": "code",
   "execution_count": 9,
   "metadata": {},
   "outputs": [
    {
     "ename": "ModuleNotFoundError",
     "evalue": "No module named 'API_Keys'",
     "output_type": "error",
     "traceback": [
      "\u001b[1;31m---------------------------------------------------------------------------\u001b[0m",
      "\u001b[1;31mModuleNotFoundError\u001b[0m                       Traceback (most recent call last)",
      "\u001b[1;32m<ipython-input-9-d181eb8791e8>\u001b[0m in \u001b[0;36m<module>\u001b[1;34m\u001b[0m\n\u001b[0;32m      5\u001b[0m \u001b[0mpath\u001b[0m \u001b[1;33m=\u001b[0m \u001b[1;34m\"/Users/matth/Desktop\"\u001b[0m\u001b[1;33m\u001b[0m\u001b[1;33m\u001b[0m\u001b[0m\n\u001b[0;32m      6\u001b[0m \u001b[0msys\u001b[0m\u001b[1;33m.\u001b[0m\u001b[0mpath\u001b[0m\u001b[1;33m.\u001b[0m\u001b[0minsert\u001b[0m\u001b[1;33m(\u001b[0m\u001b[1;36m0\u001b[0m\u001b[1;33m,\u001b[0m \u001b[0mpath\u001b[0m\u001b[1;33m)\u001b[0m\u001b[1;33m\u001b[0m\u001b[1;33m\u001b[0m\u001b[0m\n\u001b[1;32m----> 7\u001b[1;33m \u001b[1;32mfrom\u001b[0m \u001b[0mAPI_Keys\u001b[0m \u001b[1;32mimport\u001b[0m \u001b[0mapi_key\u001b[0m\u001b[1;33m\u001b[0m\u001b[1;33m\u001b[0m\u001b[0m\n\u001b[0m\u001b[0;32m      8\u001b[0m \u001b[0mg_key\u001b[0m\u001b[1;33m=\u001b[0m \u001b[0mapi_key\u001b[0m\u001b[1;33m[\u001b[0m\u001b[1;34m\"Google Maps Platform\"\u001b[0m\u001b[1;33m]\u001b[0m\u001b[1;33m\u001b[0m\u001b[1;33m\u001b[0m\u001b[0m\n\u001b[0;32m      9\u001b[0m \u001b[1;33m\u001b[0m\u001b[0m\n",
      "\u001b[1;31mModuleNotFoundError\u001b[0m: No module named 'API_Keys'"
     ]
    }
   ],
   "source": [
    "\n",
    "\n",
    "# Import API key\n",
    "#from api_keys import g_key\n",
    "\n",
    "import sys\n",
    "path = \"/Users/matth/Desktop\"\n",
    "sys.path.insert(0, path)\n",
    "from API_Keys import api_key\n",
    "g_key= api_key[\"Google Maps Platform\"]\n",
    "\n",
    "# configure gmaps with api key\n",
    "gmaps.configure(api_key=g_key)\n",
    "\n",
    "fig = gmaps.figure()\n",
    "\n",
    "#HEAT LAYER\n",
    "heat_layer = gmaps.heatmap_layer(locations, weights=USER_CHOICE_df[\"overall_RANK\"], \n",
    "                                 dissipating=False, max_intensity=USER_CHOICE_df[\"overall_RANK\"].max(),\n",
    "                                 point_radius=1)\n",
    "\n",
    "# Add marker layer\n",
    "marker_layer = gmaps.marker_layer(locations, \\\n",
    "                                 info_box_content=[f\"{info}\" for info in ALL_DATA_info])\n",
    "\n",
    "# Add layer and Display figure\n",
    "fig.add_layer(heat_layer)\n",
    "fig.add_layer(marker_layer)\n",
    "\n",
    "\n",
    "fig\n",
    "USER_CHOICE_df.sort_values(by = \"OCC VALUE R\")"
   ]
  },
  {
   "cell_type": "code",
   "execution_count": null,
   "metadata": {},
   "outputs": [],
   "source": []
  }
 ],
 "metadata": {
  "kernelspec": {
   "display_name": "Python 3",
   "language": "python",
   "name": "python3"
  },
  "language_info": {
   "codemirror_mode": {
    "name": "ipython",
    "version": 3
   },
   "file_extension": ".py",
   "mimetype": "text/x-python",
   "name": "python",
   "nbconvert_exporter": "python",
   "pygments_lexer": "ipython3",
   "version": "3.8.5"
  }
 },
 "nbformat": 4,
 "nbformat_minor": 4
}
