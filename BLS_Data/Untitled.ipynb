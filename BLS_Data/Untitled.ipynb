{
 "cells": [
  {
   "cell_type": "code",
   "execution_count": 11,
   "metadata": {},
   "outputs": [],
   "source": [
    "import requests\n",
    "import json\n",
    "import pprint as pprint\n",
    "import prettytable\n",
    "import pandas as pd\n",
    "import csv\n",
    "import pandas as pd\n",
    "from difflib import get_close_matches "
   ]
  },
  {
   "cell_type": "code",
   "execution_count": null,
   "metadata": {},
   "outputs": [],
   "source": [
    "headers = {'Content-type': 'application/json'}\n",
    "data = json.dumps({\"seriesid\": ['CUUR0000SA0','SUUR0000SA0'],\"startyear\":\"2011\", \"endyear\":\"2014\"})\n",
    "p = requests.post('https://api.bls.gov/publicAPI/v2/timeseries/data/', data=data, headers=headers)\n",
    "json_data = json.loads(p.text)\n",
    "for series in json_data['Results']['series']:\n",
    "    x=prettytable.PrettyTable([\"series id\",\"year\",\"period\",\"value\",\"footnotes\"])\n",
    "    seriesId = series['seriesID']\n",
    "    for item in series['data']:\n",
    "        year = item['year']\n",
    "        period = item['period']\n",
    "        value = item['value']\n",
    "        footnotes=\"\"\n",
    "        for footnote in item['footnotes']:\n",
    "            if footnote:\n",
    "                footnotes = footnotes + footnote['text'] + ','\n",
    "        if 'M01' <= period <= 'M12':\n",
    "            x.add_row([seriesId,year,period,value,footnotes[0:-1]])\n",
    "    output = open(seriesId + '.txt','w')\n",
    "    output.write (x.get_string())\n",
    "    output.close()\n",
    "# This code writes to two text files in the current dir CUUR0000SA0 (Inflation & Prices average) and SUUR0000SA0 (chained CPI)."
   ]
  },
  {
   "cell_type": "code",
   "execution_count": null,
   "metadata": {},
   "outputs": [],
   "source": [
    "json_data"
   ]
  },
  {
   "cell_type": "code",
   "execution_count": null,
   "metadata": {},
   "outputs": [],
   "source": [
    "headers = {'Content-type': 'application/json'}\n",
    "data = json.dumps({\"seriesid\": ['WMU00140201020000001300002500'],\"startyear\":\"2019\", \"endyear\":\"2020\"})\n",
    "p = requests.post('https://api.bls.gov/publicAPI/v2/timeseries/data/', data=data, headers=headers)\n",
    "json_data = json.loads(p.text)\n",
    "\n",
    "# WMU40000011020000004130992500 Modeled Wage Estimates"
   ]
  },
  {
   "cell_type": "code",
   "execution_count": null,
   "metadata": {},
   "outputs": [],
   "source": [
    "json_data"
   ]
  },
  {
   "cell_type": "code",
   "execution_count": null,
   "metadata": {},
   "outputs": [],
   "source": [
    "#QUERY BUILDING. KEEP THIS CODE AS TEMPLATE.\n",
    "Base_Series = \"WMU\"\n",
    "Area = \"0014020\" # Geographical (change this)\n",
    "Ownership = \"1\" # Civilian owned DO NOT CHANGE (?)\n",
    "Estimate = \"02\" # Hourly wage DO NOT CHANGE!\n",
    "Industry = \"000000\" # All Industries DO NOT CHANGE!\n",
    "Occupation = \"130000\" # Occupation type (change this)\n",
    "Job_Char = \"25\" # Full Time etc. (change, but only nice to have change)\n",
    "Level = \"00\" # all levels (can change. 01-15, the higher the more skilled. 16 is cannot be leveled. need to play)\n",
    "Query_Series = Base_Series+\\\n",
    "                Area+\\\n",
    "                Ownership+\\\n",
    "                Estimate+\\\n",
    "                Industry+\\\n",
    "                Occupation+\\\n",
    "                Job_Char+\\\n",
    "                Level"
   ]
  },
  {
   "cell_type": "code",
   "execution_count": null,
   "metadata": {},
   "outputs": [],
   "source": [
    "headers = {'Content-type': 'application/json'}\n",
    "data = json.dumps({\"seriesid\": [Query_Series],\"startyear\":\"2011\", \"endyear\":\"2019\"})\n",
    "p = requests.post('https://api.bls.gov/publicAPI/v2/timeseries/data/', data=data, headers=headers)\n",
    "json_data = json.loads(p.text)"
   ]
  },
  {
   "cell_type": "code",
   "execution_count": null,
   "metadata": {},
   "outputs": [],
   "source": [
    "json_data"
   ]
  },
  {
   "cell_type": "code",
   "execution_count": null,
   "metadata": {},
   "outputs": [],
   "source": [
    "url = \"https://download.bls.gov/pub/time.series/wm/wm.subcell\"\n",
    "response = requests.get(url).text"
   ]
  },
  {
   "cell_type": "code",
   "execution_count": null,
   "metadata": {},
   "outputs": [],
   "source": [
    "response\n"
   ]
  },
  {
   "cell_type": "code",
   "execution_count": null,
   "metadata": {},
   "outputs": [],
   "source": [
    "no_r_list = response.split('\\r\\n')\n",
    "no_t_list = [row.split('\\t') for row in no_r_list]\n",
    "no_t_list[0][0]\n",
    "dictionary={no_t_list[i][0]: no_t_list[i][1] for i in range(len(no_t_list)-1)}\n",
    "inv_dictionary={no_t_list[i][1]: no_t_list[i][0] for i in range(len(no_t_list)-1)}\n",
    "print(dictionary)\n",
    "print(inv_dictionary)\n"
   ]
  },
  {
   "cell_type": "code",
   "execution_count": null,
   "metadata": {},
   "outputs": [],
   "source": [
    "# DICTIONARY BUILDING. KEEP THIS CODE AS TEMPLATE.\n",
    "\n",
    "url = \"https://download.bls.gov/pub/time.series/wm/wm.area\" #more complex\n",
    "#url=\"https://download.bls.gov/pub/time.series/wm/wm.occupation\" #more complex\n",
    "response = requests.get(url).text\n",
    "\n",
    "no_r_list = response.split('\\r\\n')\n",
    "no_t_list = [row.split('\\t') for row in no_r_list]\n",
    "no_t_list[0][0]\n",
    "\n",
    "dictionary={}\n",
    "\n",
    "dictionary[url[url.rfind(\".\")+1::]]={no_t_list[i][0]: no_t_list[i][1] for i in range(len(no_t_list)-1)}\n",
    "inv_dictionary[url[url.rfind(\".\")+1::]]={no_t_list[i][1]: no_t_list[i][0] for i in range(len(no_t_list)-1)}\n",
    "\n",
    "print(dictionary[\"area\"][\"0012420\"])\n",
    "print(inv_dictionary[\"area\"][\"Austin-Round Rock, TX\"])"
   ]
  },
  {
   "cell_type": "code",
   "execution_count": null,
   "metadata": {},
   "outputs": [],
   "source": [
    "# https://www.bls.gov/help/hlpforma.htm # Prefix - Series ID Formats X\n",
    "# (U) Seasonality, unaffected only X\n",
    "# https://download.bls.gov/pub/time.series/wm/wm.area # Area = US locations\n",
    "# (1) Ownership - civilian only\n",
    "# (02) hourly wage only \n",
    "# (000000) Industry code, all only\n",
    "# https://download.bls.gov/pub/time.series/wm/wm.occupation # Occupation types of jobs\n",
    "# https://download.bls.gov/pub/time.series/wm/wm.subcell # Job Char, fulltime, etc. (Group decided to limit to fulltime)\n",
    "# https://download.bls.gov/pub/time.series/wm/wm.level #Level, how skilled/paid"
   ]
  },
  {
   "cell_type": "code",
   "execution_count": 92,
   "metadata": {},
   "outputs": [],
   "source": [
    "# Actual codespace\n",
    "# Build dictionary (and reverse dictionary) for locations\n",
    "url_dic = {}\n",
    "url_dic = {\"MWE_Location\": \"https://download.bls.gov/pub/time.series/wm/wm.area\",\n",
    "           \"MWE_Occupation Type\": \"https://download.bls.gov/pub/time.series/wm/wm.occupation\",\n",
    "           \"MWE_Skill Level\": \"https://download.bls.gov/pub/time.series/wm/wm.level\"\n",
    "           \"ML_States: https://download.bls.gov/pub/time.series/ml/ml.srd\"}\n",
    "series_dic={}\n",
    "inv_series_dic={}\n",
    "for key in url_dic:\n",
    "        response = requests.get(url_dic[key]).text\n",
    "        no_r_list = response.split('\\r\\n')\n",
    "        no_t_list = [row.split('\\t') for row in no_r_list]\n",
    "        no_t_list[0][0]\n",
    "        dictionary={no_t_list[i][0]: no_t_list[i][1] for i in range(len(no_t_list)-1)}\n",
    "        inv_dictionary={no_t_list[i][1]: no_t_list[i][0] for i in range(len(no_t_list)-1)}\n",
    "        series_dic[key] = dictionary\n",
    "        inv_series_dic[key] = inv_dictionary\n",
    "        \n",
    "url_dic = {\"Full Dataset\": \"https://download.bls.gov/pub/time.series/wm/wm.data.1.AllData\"}\n",
    "for key in url_dic:\n",
    "        response = requests.get(url_dic[key]).text\n",
    "        no_r_list = response.split('\\r\\n')\n",
    "        no_t_list = [row.split('\\t') for row in no_r_list]\n",
    "        no_t_list[0][0]\n",
    "        dictionary={no_t_list[i][0]: no_t_list[i][3] for i in range(len(no_t_list)-1)}\n",
    "        inv_dictionary={no_t_list[i][3]: no_t_list[i][0] for i in range(len(no_t_list)-1)}\n",
    "        series_dic[key] = dictionary\n",
    "        inv_series_dic[key] = inv_dictionary"
   ]
  },
  {
   "cell_type": "code",
   "execution_count": 106,
   "metadata": {},
   "outputs": [],
   "source": [
    "# Create a dictionary to match GEO city identifiers with BLS city identifiers. \n",
    "# Dictionary should input the GEO data, pass through BLS data, and return the Location codes that are part of \n",
    "# querying BLS Series.\n",
    "\n",
    "# NEED TO STANDARDIZE PATH VARIABLES\n",
    "GeoID_2_BLS_Locations_df = pd.read_csv(\"../data/GeoIDs - City.csv\")\n",
    "GeoID_2_BLS_Locations_df[\"city, state\"] = GeoID_2_BLS_Locations_df[\"cityname\"] + \", \" + GeoID_2_BLS_Locations_df[\"stateabbrev\"]\n",
    "GeoID_2_BLS_Locations_df\n",
    "\n",
    "GEO_to_BLS_Location_dic={}\n",
    "GEO_to_BLS_citynotfound_list=[]\n",
    "GEO_to_BLS_howtranslated = {}\n",
    "\n",
    "for citystate in GeoID_2_BLS_Locations_df[\"city, state\"]:\n",
    "    GEO_citystate = GeoID_2_BLS_Locations_df[GeoID_2_BLS_Locations_df[\"city, state\"]==citystate][\"city, state\"].tolist()[0]\n",
    "    GEO_city = GeoID_2_BLS_Locations_df[GeoID_2_BLS_Locations_df[\"city, state\"]==citystate][\"cityname\"].tolist()[0]\n",
    "    GEO_state_full = GeoID_2_BLS_Locations_df[GeoID_2_BLS_Locations_df[\"city, state\"]==citystate][\"statename\"].tolist()[0]\n",
    "    GEO_state_abbrev = GeoID_2_BLS_Locations_df[GeoID_2_BLS_Locations_df[\"city, state\"]==citystate][\"stateabbrev\"].tolist()[0]\n",
    "    try:    \n",
    "        inv_series_dic['Location'][GEO_citystate]\n",
    "        GEO_to_BLS_Location_dic[citystate] = GEO_citystate\n",
    "        GEO_to_BLS_howtranslated[citystate] = \"directly\"\n",
    "    except:\n",
    "        try:\n",
    "            GEO_to_BLS_Location_dic[citystate] = [key for key in list(inv_series_dic['Location'].keys()) \\\n",
    "                if GEO_city in key \\\n",
    "                if GEO_state_abbrev in key[key.find(\",\")::]][0]\n",
    "            GEO_to_BLS_howtranslated[citystate] = \"best match\"\n",
    "        except:\n",
    "            try: \n",
    "                inv_series_dic['Location'][GEO_state_full][0]\n",
    "                GEO_to_BLS_Location_dic[citystate] = GEO_state_full\n",
    "                GEO_to_BLS_howtranslated[citystate] = \"state only\"\n",
    "            except: \n",
    "                GEO_to_BLS_Location_dic[citystate] = float(\"NaN\")\n",
    "                i=i+1\n",
    "                GEO_to_BLS_citynotfound_list.append(citystate)\n",
    "                print(f\"WARNING: {i} cities not found: {GEO_to_BLS_citynotfound_list}\")\n",
    "\n",
    "GEO_to_BLS_Location_Code_Lookup={key:inv_series_dic['Location'][value]\\\n",
    "                                for (key,value) in GEO_to_BLS_Location_dic.items()}\n",
    "inv_GEO_to_BLS_Location_Code_Lookup = {inv_series_dic['Location'][value]:key\\\n",
    "                                for (key,value) in GEO_to_BLS_Location_dic.items()}\n"
   ]
  },
  {
   "cell_type": "code",
   "execution_count": 2,
   "metadata": {},
   "outputs": [],
   "source": [
    "###Modeled Wage Estimate (MWE)"
   ]
  },
  {
   "cell_type": "code",
   "execution_count": 85,
   "metadata": {},
   "outputs": [
    {
     "name": "stdout",
     "output_type": "stream",
     "text": [
      "110000: Management occupations\n",
      "130000: Business and financial operations occupations\n",
      "150000: Computer and mathematical occupations\n",
      "170000: Architecture and engineering occupations\n",
      "190000: Life, physical, and social science occupations\n",
      "210000: Community and social service occupations\n",
      "230000: Legal occupations\n",
      "250000: Educational instruction and library occupations\n",
      "270000: Arts, design, entertainment, sports, and media occupations\n",
      "290000: Healthcare practitioners and technical occupations\n",
      "310000: Healthcare support occupations\n",
      "330000: Protective service occupations\n",
      "350000: Food preparation and serving related occupations\n",
      "370000: Building and grounds cleaning and maintenance occupations\n",
      "390000: Personal care and service occupations\n",
      "410000: Sales and related occupations\n",
      "430000: Office and administrative support occupations\n",
      "470000: Construction and extraction occupations\n",
      "490000: Installation, maintenance, and repair occupations\n",
      "510000: Production occupations\n",
      "530000: Transportation and material moving occupations\n",
      "Please choose from the following occupation type codes:390000\n"
     ]
    },
    {
     "data": {
      "text/plain": [
       "['WMU00310801020000003900000000',\n",
       " 'WMU36000001020000003900000000',\n",
       " 'WMU00169801020000003900000000',\n",
       " 'WMU00264201020000003900000000',\n",
       " 'WMU00380601020000003900000000',\n",
       " 'WMU00417401020000003900000000',\n",
       " 'WMU00191001020000003900000000',\n",
       " 'WMU00298201020000003900000000',\n",
       " 'WMU00426601020000003900000000',\n",
       " 'WMU00191001020000003900000000',\n",
       " 'WMU00417001020000003900000000',\n",
       " 'WMU00419401020000003900000000',\n",
       " 'WMU00198201020000003900000000',\n",
       " 'WMU00379801020000003900000000',\n",
       " 'WMU00181401020000003900000000',\n",
       " 'WMU00124201020000003900000000',\n",
       " 'WMU00167401020000003900000000',\n",
       " 'WMU00269001020000003900000000',\n",
       " 'WMU00272601020000003900000000',\n",
       " 'WMU00328201020000003900000000',\n",
       " 'WMU00418601020000003900000000',\n",
       " 'WMU00213401020000003900000000',\n",
       " 'WMU00125801020000003900000000',\n",
       " 'WMU00389001020000003900000000',\n",
       " 'WMU00716501020000003900000000',\n",
       " 'WMU00364201020000003900000000',\n",
       " 'WMU00311401020000003900000000',\n",
       " 'WMU00197401020000003900000000',\n",
       " 'WMU00479001020000003900000000',\n",
       " 'WMU00349801020000003900000000',\n",
       " 'WMU00333401020000003900000000',\n",
       " 'WMU00107401020000003900000000',\n",
       " 'WMU00460601020000003900000000',\n",
       " 'WMU00234201020000003900000000',\n",
       " 'WMU00409001020000003900000000',\n",
       " 'WMU00120601020000003900000000',\n",
       " 'WMU00281401020000003900000000',\n",
       " 'WMU00331001020000003900000000',\n",
       " 'WMU00395801020000003900000000',\n",
       " 'WMU00365401020000003900000000',\n",
       " 'WMU00418601020000003900000000',\n",
       " 'WMU00334601020000003900000000',\n",
       " 'WMU00453001020000003900000000',\n",
       " 'WMU00353801020000003900000000',\n",
       " 'WMU00486201020000003900000000',\n",
       " 'WMU00174601020000003900000000',\n",
       " 'WMU00125401020000003900000000',\n",
       " 'WMU00465201020000003900000000',\n",
       " 'WMU00142601020000003900000000',\n",
       " 'WMU00416201020000003900000000',\n",
       " 'WMU00472601020000003900000000',\n",
       " 'WMU00178201020000003900000000',\n",
       " 'WMU00461401020000003900000000']"
      ]
     },
     "execution_count": 85,
     "metadata": {},
     "output_type": "execute_result"
    }
   ],
   "source": [
    "\n",
    "\n",
    "# System Allowed Series limit is 25 per request.\n",
    "\n",
    "\n",
    "#def BLS_MWE_hourlyrate_series_builder:\n",
    "Base_Series = \"WMU\"\n",
    "#Location = \"0014020\" # Geographical (change this)\n",
    "Location = list(GEO_to_BLS_Location_Code_Lookup.values())\n",
    "## Start Location Builder.\n",
    "## End Location Builder.\n",
    "Ownership = \"1\" # Civilian owned DO NOT CHANGE (?)\n",
    "Estimate = \"02\" # Hourly wage DO NOT CHANGE!\n",
    "Industry = \"000000\" # All Industries DO NOT CHANGE!\n",
    "# Occupation code builder, requires user input.\n",
    "BLS_Occupation = [key for key in list(series_dic[\"Occupation Type\"].keys()) if \"000\"in key]\n",
    "for key in BLS_Occupation:\n",
    "    print(f\"{key}: {series_dic['Occupation Type'][key]}\")\n",
    "Occupation = input(\"Please choose from the following occupation type codes:\") # Occupation type (change this)\n",
    "# Error handling.\n",
    "try:\n",
    "    series_dic[\"Occupation Type\"][Occupation]\n",
    "except:\n",
    "    ## Ideally need a clear screen line. Need help with this.\n",
    "    for key in BLS_Occupation:\n",
    "        print(f\"{key}: {series_dic['Occupation Type'][key]}\")\n",
    "    print(\"Invalid Occupation code was chosen. Please try again.\")\n",
    "    Occupation = input(\"Please choose from the following occupation type codes:\")\n",
    "# End occupation code build.\n",
    "How_Paid = \"00\" # Full Time etc. (change, but only nice to have change)\n",
    "Level = \"00\" # all levels (can change. 01-15, the higher the more skilled. 16 is cannot be leveled. need to play)\n",
    "\n",
    "\n",
    "\n",
    "BLS_Series_ID_List = [\"WMU\"+location+Ownership+Estimate+Industry+Occupation+How_Paid+Level for location in Location]\n",
    "BLS_Series_ID_List"
   ]
  },
  {
   "cell_type": "code",
   "execution_count": 90,
   "metadata": {},
   "outputs": [
    {
     "name": "stdout",
     "output_type": "stream",
     "text": [
      "0013140 for location Beaumont-Port Arthur, TX for job 491011 as First-line supervisors of mechanics, installers, and repairers\n",
      "WMU48000001020000004910110016\n"
     ]
    }
   ],
   "source": [
    "test = 'WMU00131401020000004910110016'\n",
    "        \n",
    "\n",
    "print(f\"{test[3:10]} for location {series_dic['Location'][test[3:10]]} for job {test[19:25]} as {series_dic['Occupation Type'][test[19:25]]}\")\n",
    "print(test.replace(test[3:10],inv_series_dic[\"Location\"][\"Texas\"]))\n"
   ]
  },
  {
   "cell_type": "code",
   "execution_count": 116,
   "metadata": {},
   "outputs": [
    {
     "data": {
      "text/plain": [
       "'series_id                     '"
      ]
     },
     "execution_count": 116,
     "metadata": {},
     "output_type": "execute_result"
    }
   ],
   "source": [
    "LocKeys[shortseries in LocKeys]"
   ]
  },
  {
   "cell_type": "code",
   "execution_count": 121,
   "metadata": {},
   "outputs": [
    {
     "data": {
      "text/plain": [
       "['WMU48000001020000003300000002 ',\n",
       " 'WMU48000001020000003300000003 ',\n",
       " 'WMU48000001020000003300000004 ',\n",
       " 'WMU48000001020000003300000006 ',\n",
       " 'WMU48000001020000003300000007 ',\n",
       " 'WMU48000001020000003300000016 ',\n",
       " 'WMU48000001020000003300002300 ',\n",
       " 'WMU48000001020000003300002400 ',\n",
       " 'WMU48000001020000003300002500 ',\n",
       " 'WMU48000001020000003300002503 ',\n",
       " 'WMU48000001020000003300002504 ',\n",
       " 'WMU48000001020000003300002506 ',\n",
       " 'WMU48000001020000003300002507 ',\n",
       " 'WMU48000001020000003300002516 ',\n",
       " 'WMU48000001020000003300002600 ',\n",
       " 'WMU48000001020000003300002602 ',\n",
       " 'WMU48000001020000003300002700 ']"
      ]
     },
     "execution_count": 121,
     "metadata": {},
     "output_type": "execute_result"
    }
   ],
   "source": [
    "# Beginnings of a try except method for grabbing the MWE info. Need to create series and verify values are available \n",
    "# before creating the dataframe.\n",
    "\n",
    "shortseries = \"WMU4800000102000000330000\"\n",
    "LocKeys=list(series_dic[\"Full Dataset\"].keys())\n",
    "#series_dic[\"Full Dataset\"]\n",
    "[lockey for lockey in LocKeys if shortseries in lockey]"
   ]
  },
  {
   "cell_type": "code",
   "execution_count": 122,
   "metadata": {},
   "outputs": [],
   "source": [
    "df = pd.DataFrame({\"Series ID\": BLS_Series_ID_List,\n",
    "                  \"Location\": [inv_GEO_to_BLS_Location_Code_Lookup[series_id[3:10]] for series_id in BLS_Series_ID_List]})\n",
    "#                  \"MWE ($/hr)\": [series_dic[\"Full Dataset\"][series_id] for series_id in BLS_Series_ID_List]})\n"
   ]
  },
  {
   "cell_type": "code",
   "execution_count": 86,
   "metadata": {},
   "outputs": [
    {
     "data": {
      "text/plain": [
       "{'status': 'REQUEST_SUCCEEDED',\n",
       " 'responseTime': 382,\n",
       " 'message': ['Requested Series list has been reduced to the system-allowed limit of 25 series.',\n",
       "  'Series does not exist for Series WMU00124201020000003900000000',\n",
       "  'Series does not exist for Series WMU00125801020000003900000000',\n",
       "  'Series does not exist for Series WMU00167401020000003900000000',\n",
       "  'Series does not exist for Series WMU00169801020000003900000000',\n",
       "  'Series does not exist for Series WMU00181401020000003900000000',\n",
       "  'Series does not exist for Series WMU00191001020000003900000000',\n",
       "  'Series does not exist for Series WMU00198201020000003900000000',\n",
       "  'Series does not exist for Series WMU00213401020000003900000000',\n",
       "  'Series does not exist for Series WMU00264201020000003900000000',\n",
       "  'Series does not exist for Series WMU00269001020000003900000000',\n",
       "  'Series does not exist for Series WMU00272601020000003900000000',\n",
       "  'Series does not exist for Series WMU00298201020000003900000000',\n",
       "  'Series does not exist for Series WMU00310801020000003900000000',\n",
       "  'Series does not exist for Series WMU00328201020000003900000000',\n",
       "  'Series does not exist for Series WMU00364201020000003900000000',\n",
       "  'Series does not exist for Series WMU00379801020000003900000000',\n",
       "  'Series does not exist for Series WMU00380601020000003900000000',\n",
       "  'Series does not exist for Series WMU00389001020000003900000000',\n",
       "  'Series does not exist for Series WMU00417001020000003900000000',\n",
       "  'Series does not exist for Series WMU00417401020000003900000000',\n",
       "  'Series does not exist for Series WMU00418601020000003900000000',\n",
       "  'Series does not exist for Series WMU00419401020000003900000000',\n",
       "  'Series does not exist for Series WMU00426601020000003900000000',\n",
       "  'Series does not exist for Series WMU00716501020000003900000000',\n",
       "  'Series does not exist for Series WMU36000001020000003900000000'],\n",
       " 'Results': {'series': [{'seriesID': 'WMU00310801020000003900000000',\n",
       "    'data': []},\n",
       "   {'seriesID': 'WMU36000001020000003900000000', 'data': []},\n",
       "   {'seriesID': 'WMU00169801020000003900000000', 'data': []},\n",
       "   {'seriesID': 'WMU00264201020000003900000000', 'data': []},\n",
       "   {'seriesID': 'WMU00380601020000003900000000', 'data': []},\n",
       "   {'seriesID': 'WMU00417401020000003900000000', 'data': []},\n",
       "   {'seriesID': 'WMU00191001020000003900000000', 'data': []},\n",
       "   {'seriesID': 'WMU00298201020000003900000000', 'data': []},\n",
       "   {'seriesID': 'WMU00426601020000003900000000', 'data': []},\n",
       "   {'seriesID': 'WMU00417001020000003900000000', 'data': []},\n",
       "   {'seriesID': 'WMU00419401020000003900000000', 'data': []},\n",
       "   {'seriesID': 'WMU00198201020000003900000000', 'data': []},\n",
       "   {'seriesID': 'WMU00379801020000003900000000', 'data': []},\n",
       "   {'seriesID': 'WMU00181401020000003900000000', 'data': []},\n",
       "   {'seriesID': 'WMU00124201020000003900000000', 'data': []},\n",
       "   {'seriesID': 'WMU00167401020000003900000000', 'data': []},\n",
       "   {'seriesID': 'WMU00269001020000003900000000', 'data': []},\n",
       "   {'seriesID': 'WMU00272601020000003900000000', 'data': []},\n",
       "   {'seriesID': 'WMU00328201020000003900000000', 'data': []},\n",
       "   {'seriesID': 'WMU00418601020000003900000000', 'data': []},\n",
       "   {'seriesID': 'WMU00213401020000003900000000', 'data': []},\n",
       "   {'seriesID': 'WMU00125801020000003900000000', 'data': []},\n",
       "   {'seriesID': 'WMU00389001020000003900000000', 'data': []},\n",
       "   {'seriesID': 'WMU00716501020000003900000000', 'data': []},\n",
       "   {'seriesID': 'WMU00364201020000003900000000', 'data': []}]}}"
      ]
     },
     "execution_count": 86,
     "metadata": {},
     "output_type": "execute_result"
    }
   ],
   "source": [
    "headers = {'Content-type': 'application/json'}\n",
    "data = json.dumps({\"seriesid\": BLS_Series_ID_List,\"startyear\":\"2019\", \"endyear\":\"2019\"})\n",
    "p = requests.post('https://api.bls.gov/publicAPI/v2/timeseries/data/', data=data, headers=headers)\n",
    "json_data = json.loads(p.text)\n",
    "json_data\n"
   ]
  },
  {
   "cell_type": "code",
   "execution_count": 47,
   "metadata": {},
   "outputs": [
    {
     "name": "stdout",
     "output_type": "stream",
     "text": [
      "{'Results': {'series': [{'data': [{'footnotes': [{}],\n",
      "                                   'latest': 'true',\n",
      "                                   'period': 'A01',\n",
      "                                   'periodName': 'Annual',\n",
      "                                   'value': '17.66',\n",
      "                                   'year': '2019'}],\n",
      "                         'seriesID': 'WMU00310801020000003900002500'},\n",
      "                        {'data': [{'footnotes': [{}],\n",
      "                                   'latest': 'true',\n",
      "                                   'period': 'A01',\n",
      "                                   'periodName': 'Annual',\n",
      "                                   'value': '18.49',\n",
      "                                   'year': '2019'}],\n",
      "                         'seriesID': 'WMU36000001020000003900002500'},\n",
      "                        {'data': [{'footnotes': [{}],\n",
      "                                   'latest': 'true',\n",
      "                                   'period': 'A01',\n",
      "                                   'periodName': 'Annual',\n",
      "                                   'value': '16.88',\n",
      "                                   'year': '2019'}],\n",
      "                         'seriesID': 'WMU00169801020000003900002500'},\n",
      "                        {'data': [{'footnotes': [{}],\n",
      "                                   'latest': 'true',\n",
      "                                   'period': 'A01',\n",
      "                                   'periodName': 'Annual',\n",
      "                                   'value': '15.28',\n",
      "                                   'year': '2019'}],\n",
      "                         'seriesID': 'WMU00264201020000003900002500'},\n",
      "                        {'data': [],\n",
      "                         'seriesID': 'WMU00380601020000003900002500'},\n",
      "                        {'data': [{'footnotes': [{}],\n",
      "                                   'latest': 'true',\n",
      "                                   'period': 'A01',\n",
      "                                   'periodName': 'Annual',\n",
      "                                   'value': '17.89',\n",
      "                                   'year': '2019'}],\n",
      "                         'seriesID': 'WMU00417401020000003900002500'},\n",
      "                        {'data': [{'footnotes': [{}],\n",
      "                                   'latest': 'true',\n",
      "                                   'period': 'A01',\n",
      "                                   'periodName': 'Annual',\n",
      "                                   'value': '15.45',\n",
      "                                   'year': '2019'}],\n",
      "                         'seriesID': 'WMU00191001020000003900002500'},\n",
      "                        {'data': [{'footnotes': [{}],\n",
      "                                   'latest': 'true',\n",
      "                                   'period': 'A01',\n",
      "                                   'periodName': 'Annual',\n",
      "                                   'value': '14.68',\n",
      "                                   'year': '2019'}],\n",
      "                         'seriesID': 'WMU00298201020000003900002500'},\n",
      "                        {'data': [{'footnotes': [{}],\n",
      "                                   'latest': 'true',\n",
      "                                   'period': 'A01',\n",
      "                                   'periodName': 'Annual',\n",
      "                                   'value': '20.94',\n",
      "                                   'year': '2019'}],\n",
      "                         'seriesID': 'WMU00426601020000003900002500'},\n",
      "                        {'data': [{'footnotes': [{}],\n",
      "                                   'latest': 'true',\n",
      "                                   'period': 'A01',\n",
      "                                   'periodName': 'Annual',\n",
      "                                   'value': '14.14',\n",
      "                                   'year': '2019'}],\n",
      "                         'seriesID': 'WMU00417001020000003900002500'},\n",
      "                        {'data': [{'footnotes': [{}],\n",
      "                                   'latest': 'true',\n",
      "                                   'period': 'A01',\n",
      "                                   'periodName': 'Annual',\n",
      "                                   'value': '18.76',\n",
      "                                   'year': '2019'}],\n",
      "                         'seriesID': 'WMU00419401020000003900002500'},\n",
      "                        {'data': [],\n",
      "                         'seriesID': 'WMU00198201020000003900002500'},\n",
      "                        {'data': [{'footnotes': [{}],\n",
      "                                   'latest': 'true',\n",
      "                                   'period': 'A01',\n",
      "                                   'periodName': 'Annual',\n",
      "                                   'value': '16.53',\n",
      "                                   'year': '2019'}],\n",
      "                         'seriesID': 'WMU00379801020000003900002500'},\n",
      "                        {'data': [{'footnotes': [{}],\n",
      "                                   'latest': 'true',\n",
      "                                   'period': 'A01',\n",
      "                                   'periodName': 'Annual',\n",
      "                                   'value': '15.64',\n",
      "                                   'year': '2019'}],\n",
      "                         'seriesID': 'WMU00181401020000003900002500'},\n",
      "                        {'data': [],\n",
      "                         'seriesID': 'WMU00124201020000003900002500'},\n",
      "                        {'data': [{'footnotes': [{}],\n",
      "                                   'latest': 'true',\n",
      "                                   'period': 'A01',\n",
      "                                   'periodName': 'Annual',\n",
      "                                   'value': '16.30',\n",
      "                                   'year': '2019'}],\n",
      "                         'seriesID': 'WMU00167401020000003900002500'},\n",
      "                        {'data': [{'footnotes': [{}],\n",
      "                                   'latest': 'true',\n",
      "                                   'period': 'A01',\n",
      "                                   'periodName': 'Annual',\n",
      "                                   'value': '16.46',\n",
      "                                   'year': '2019'}],\n",
      "                         'seriesID': 'WMU00269001020000003900002500'},\n",
      "                        {'data': [{'footnotes': [{}],\n",
      "                                   'latest': 'true',\n",
      "                                   'period': 'A01',\n",
      "                                   'periodName': 'Annual',\n",
      "                                   'value': '16.46',\n",
      "                                   'year': '2019'}],\n",
      "                         'seriesID': 'WMU00272601020000003900002500'},\n",
      "                        {'data': [{'footnotes': [{}],\n",
      "                                   'latest': 'true',\n",
      "                                   'period': 'A01',\n",
      "                                   'periodName': 'Annual',\n",
      "                                   'value': '14.52',\n",
      "                                   'year': '2019'}],\n",
      "                         'seriesID': 'WMU00328201020000003900002500'},\n",
      "                        {'data': [{'footnotes': [{}],\n",
      "                                   'latest': 'true',\n",
      "                                   'period': 'A01',\n",
      "                                   'periodName': 'Annual',\n",
      "                                   'value': '19.85',\n",
      "                                   'year': '2019'}],\n",
      "                         'seriesID': 'WMU00418601020000003900002500'},\n",
      "                        {'data': [{'footnotes': [{}],\n",
      "                                   'latest': 'true',\n",
      "                                   'period': 'A01',\n",
      "                                   'periodName': 'Annual',\n",
      "                                   'value': '13.25',\n",
      "                                   'year': '2019'}],\n",
      "                         'seriesID': 'WMU00213401020000003900002500'},\n",
      "                        {'data': [{'footnotes': [{}],\n",
      "                                   'latest': 'true',\n",
      "                                   'period': 'A01',\n",
      "                                   'periodName': 'Annual',\n",
      "                                   'value': '17.41',\n",
      "                                   'year': '2019'}],\n",
      "                         'seriesID': 'WMU00125801020000003900002500'},\n",
      "                        {'data': [{'footnotes': [{}],\n",
      "                                   'latest': 'true',\n",
      "                                   'period': 'A01',\n",
      "                                   'periodName': 'Annual',\n",
      "                                   'value': '17.14',\n",
      "                                   'year': '2019'}],\n",
      "                         'seriesID': 'WMU00389001020000003900002500'},\n",
      "                        {'data': [{'footnotes': [{}],\n",
      "                                   'latest': 'true',\n",
      "                                   'period': 'A01',\n",
      "                                   'periodName': 'Annual',\n",
      "                                   'value': '19.79',\n",
      "                                   'year': '2019'}],\n",
      "                         'seriesID': 'WMU00716501020000003900002500'},\n",
      "                        {'data': [{'footnotes': [{}],\n",
      "                                   'latest': 'true',\n",
      "                                   'period': 'A01',\n",
      "                                   'periodName': 'Annual',\n",
      "                                   'value': '14.30',\n",
      "                                   'year': '2019'}],\n",
      "                         'seriesID': 'WMU00364201020000003900002500'}]},\n",
      " 'message': ['Requested Series list has been reduced to the system-allowed '\n",
      "             'limit of 25 series.',\n",
      "             'Series does not exist for Series WMU00124201020000003900002500',\n",
      "             'Series does not exist for Series WMU00198201020000003900002500',\n",
      "             'Series does not exist for Series WMU00380601020000003900002500',\n",
      "             'No Data Available for Series WMU00125801020000003900002500 Year: '\n",
      "             '2020',\n",
      "             'No Data Available for Series WMU00167401020000003900002500 Year: '\n",
      "             '2020',\n",
      "             'No Data Available for Series WMU00169801020000003900002500 Year: '\n",
      "             '2020',\n",
      "             'No Data Available for Series WMU00181401020000003900002500 Year: '\n",
      "             '2020',\n",
      "             'No Data Available for Series WMU00191001020000003900002500 Year: '\n",
      "             '2020',\n",
      "             'No Data Available for Series WMU00213401020000003900002500 Year: '\n",
      "             '2020',\n",
      "             'No Data Available for Series WMU00264201020000003900002500 Year: '\n",
      "             '2020',\n",
      "             'No Data Available for Series WMU00269001020000003900002500 Year: '\n",
      "             '2020',\n",
      "             'No Data Available for Series WMU00272601020000003900002500 Year: '\n",
      "             '2020',\n",
      "             'No Data Available for Series WMU00298201020000003900002500 Year: '\n",
      "             '2020',\n",
      "             'No Data Available for Series WMU00310801020000003900002500 Year: '\n",
      "             '2020',\n",
      "             'No Data Available for Series WMU00328201020000003900002500 Year: '\n",
      "             '2020',\n",
      "             'No Data Available for Series WMU00364201020000003900002500 Year: '\n",
      "             '2020',\n",
      "             'No Data Available for Series WMU00379801020000003900002500 Year: '\n",
      "             '2020',\n",
      "             'No Data Available for Series WMU00389001020000003900002500 Year: '\n",
      "             '2020',\n",
      "             'No Data Available for Series WMU00417001020000003900002500 Year: '\n",
      "             '2020',\n",
      "             'No Data Available for Series WMU00417401020000003900002500 Year: '\n",
      "             '2020',\n",
      "             'No Data Available for Series WMU00418601020000003900002500 Year: '\n",
      "             '2020',\n",
      "             'No Data Available for Series WMU00419401020000003900002500 Year: '\n",
      "             '2020',\n",
      "             'No Data Available for Series WMU00426601020000003900002500 Year: '\n",
      "             '2020',\n",
      "             'No Data Available for Series WMU00716501020000003900002500 Year: '\n",
      "             '2020',\n",
      "             'No Data Available for Series WMU36000001020000003900002500 Year: '\n",
      "             '2020'],\n",
      " 'responseTime': 662,\n",
      " 'status': 'REQUEST_SUCCEEDED'}\n"
     ]
    }
   ],
   "source": [
    "pprint.pprint(json_data)"
   ]
  },
  {
   "cell_type": "code",
   "execution_count": 62,
   "metadata": {},
   "outputs": [
    {
     "name": "stdout",
     "output_type": "stream",
     "text": [
      "4 not found\n",
      "11 not found\n",
      "14 not found\n"
     ]
    },
    {
     "data": {
      "text/plain": [
       "{'WMU00310801020000003900002500': '17.66',\n",
       " 'WMU36000001020000003900002500': '18.49',\n",
       " 'WMU00169801020000003900002500': '16.88',\n",
       " 'WMU00264201020000003900002500': '15.28',\n",
       " 'WMU00417401020000003900002500': '17.89',\n",
       " 'WMU00191001020000003900002500': '15.45',\n",
       " 'WMU00298201020000003900002500': '14.68',\n",
       " 'WMU00426601020000003900002500': '20.94',\n",
       " 'WMU00417001020000003900002500': '14.14',\n",
       " 'WMU00419401020000003900002500': '18.76',\n",
       " 'WMU00379801020000003900002500': '16.53',\n",
       " 'WMU00181401020000003900002500': '15.64',\n",
       " 'WMU00167401020000003900002500': '16.30',\n",
       " 'WMU00269001020000003900002500': '16.46',\n",
       " 'WMU00272601020000003900002500': '16.46',\n",
       " 'WMU00328201020000003900002500': '14.52',\n",
       " 'WMU00418601020000003900002500': '19.85',\n",
       " 'WMU00213401020000003900002500': '13.25',\n",
       " 'WMU00125801020000003900002500': '17.41',\n",
       " 'WMU00389001020000003900002500': '17.14',\n",
       " 'WMU00716501020000003900002500': '19.79'}"
      ]
     },
     "execution_count": 62,
     "metadata": {},
     "output_type": "execute_result"
    }
   ],
   "source": [
    "dict_ser={}\n",
    "for i in range(len(json_data[\"Results\"][\"series\"])-1):\n",
    "    try:\n",
    "        dict_ser[json_data[\"Results\"][\"series\"][i][\"seriesID\"]]=json_data[\"Results\"][\"series\"][i][\"data\"][0][\"value\"]\n",
    "    except:\n",
    "        print(f\"{i} not found\")\n",
    "dict_ser"
   ]
  },
  {
   "cell_type": "code",
   "execution_count": 65,
   "metadata": {},
   "outputs": [
    {
     "data": {
      "text/plain": [
       "{'seriesID': 'WMU00124201020000003900002500', 'data': []}"
      ]
     },
     "execution_count": 65,
     "metadata": {},
     "output_type": "execute_result"
    }
   ],
   "source": [
    "json_data[\"Results\"][\"series\"][14]"
   ]
  },
  {
   "cell_type": "code",
   "execution_count": null,
   "metadata": {},
   "outputs": [],
   "source": [
    "### Mass Layoffs (ML) ABANDON. DATA ONLY THROUGH 2013."
   ]
  },
  {
   "cell_type": "code",
   "execution_count": 4,
   "metadata": {},
   "outputs": [
    {
     "name": "stdout",
     "output_type": "stream",
     "text": [
      "MLU: Prefix and Seasonality\n",
      "M: M for Mass Layoff or Q for Extended Mass Layoffs\n",
      "S00: States and/or Region/Division Codes see series_dic['ML_States']\n",
      "N: N for NAICS data Industry Base Code https://www.bls.gov/help/def/ml.htm#industry_base\n",
      "N0001: N0001 Total all industries probably best choice https://download.bls.gov/pub/time.series/ml/ml.irc\n",
      "003: Data Element Code: probably 006 for Percent of total or 003 Layoff Events\n"
     ]
    }
   ],
   "source": [
    "# Example Series\n",
    "ML_Example = \"MLUMS00NN0001003\"\n",
    "              MLUMS06NN0001003\n",
    "print(ML_Example[0:3]+ \": Prefix and Seasonality\")\n",
    "print(ML_Example[3]+ \": M for Mass Layoff or Q for Extended Mass Layoffs\")\n",
    "print(ML_Example[4:7]+ \": NEED TO CHANGE States and/or Region/Division Codes see series_dic['ML_States']\")\n",
    "print(ML_Example[7]+ \": N for NAICS data Industry Base Code https://www.bls.gov/help/def/ml.htm#industry_base\")\n",
    "print(ML_Example[8:13]+ \": NEED TO CHANGE probably best choice https://download.bls.gov/pub/time.series/ml/ml.irc\")\n",
    "print(ML_Example[13:16]+ \": Data Element Code: probably 006 for Percent of total or 003 Layoff Events\")\n",
    "\n"
   ]
  },
  {
   "cell_type": "code",
   "execution_count": 9,
   "metadata": {},
   "outputs": [
    {
     "data": {
      "text/plain": [
       "'MLUMS06NN0001003'"
      ]
     },
     "execution_count": 9,
     "metadata": {},
     "output_type": "execute_result"
    }
   ],
   "source": [
    "ML_New = ML_Example.replace(ML_Example[4:7],\"S06\") #California\n",
    "#ML_Example[8:13] = \"S0005\" #Manufacturing\n",
    "ML_New"
   ]
  },
  {
   "cell_type": "code",
   "execution_count": 13,
   "metadata": {},
   "outputs": [
    {
     "data": {
      "text/plain": [
       "{'status': 'REQUEST_SUCCEEDED',\n",
       " 'responseTime': 236,\n",
       " 'message': ['No Data Available for Series MLUMS06NN0001003 Year: 2019',\n",
       "  'No Data Available for Series MLUMS06NN0001003 Year: 2020',\n",
       "  'No Data Available for Series MLUMS06NN0001003 Year: 2021'],\n",
       " 'Results': {'series': [{'seriesID': 'MLUMS06NN0001003', 'data': []}]}}"
      ]
     },
     "execution_count": 13,
     "metadata": {},
     "output_type": "execute_result"
    }
   ],
   "source": [
    "# REQUEST TEST\n",
    "headers = {'Content-type': 'application/json'}\n",
    "data = json.dumps({\"seriesid\": [ML_New],\"startyear\":\"2019\", \"endyear\":\"2021\"})\n",
    "p = requests.post('https://api.bls.gov/publicAPI/v2/timeseries/data/', data=data, headers=headers)\n",
    "json_data = json.loads(p.text)\n",
    "json_data"
   ]
  }
 ],
 "metadata": {
  "kernelspec": {
   "display_name": "Python 3",
   "language": "python",
   "name": "python3"
  },
  "language_info": {
   "codemirror_mode": {
    "name": "ipython",
    "version": 3
   },
   "file_extension": ".py",
   "mimetype": "text/x-python",
   "name": "python",
   "nbconvert_exporter": "python",
   "pygments_lexer": "ipython3",
   "version": "3.8.5"
  }
 },
 "nbformat": 4,
 "nbformat_minor": 4
}
