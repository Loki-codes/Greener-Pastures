{
 "cells": [
  {
   "cell_type": "code",
   "execution_count": null,
   "metadata": {},
   "outputs": [],
   "source": [
    "def plot_chart(x_val,y_val):\n",
    "    x=DataFrame[x_val]\n",
    "    y=DataFrame[y_val]\n",
    "    plot_title = colname_dic[x_val] +\" vs. \" + colname_dic[y_val]\n",
    "    plt.scatter(x,y)\n",
    "    plt.xlabel(colname_dic[x_val])\n",
    "    plt.ylabel(colname_dic[y_val])\n",
    "    plt.title(plot_title + \" \"+ datetime.today().strftime(\"%m/%d/%y\"))"
   ]
  }
 ],
 "metadata": {
  "kernelspec": {
   "display_name": "Python 3",
   "language": "python",
   "name": "python3"
  },
  "language_info": {
   "codemirror_mode": {
    "name": "ipython",
    "version": 3
   },
   "file_extension": ".py",
   "mimetype": "text/x-python",
   "name": "python",
   "nbconvert_exporter": "python",
   "pygments_lexer": "ipython3",
   "version": "3.8.5"
  }
 },
 "nbformat": 4,
 "nbformat_minor": 4
}
