{
 "cells": [
  {
   "cell_type": "code",
   "execution_count": null,
   "metadata": {},
   "outputs": [],
   "source": [
    "def Weather_Scatter(x_val,y_val):\n",
    "    colx = x_val\n",
    "    coly = y_val\n",
    "\n",
    "    # set up x, y and title for plot\n",
    "    x=clean_city_data[colx]\n",
    "    y=clean_city_data[coly]\n",
    "    plot_title = colname_dic[colx] +\" vs. \" + colname_dic[coly]\n",
    "\n",
    "    #plot setup\n",
    "    plt.scatter(x,y)\n",
    "    plt.xlabel(colname_dic[colx])\n",
    "    plt.ylabel(colname_dic[coly])\n",
    "    plt.title(plot_title + \" \"+ datetime.today().strftime(\"%m/%d/%y\"))"
   ]
  },
  {
   "cell_type": "code",
   "execution_count": null,
   "metadata": {},
   "outputs": [],
   "source": [
    "def plot_chart(x_val,y_val):\n",
    "    x=alldfs[x_val]\n",
    "    y=alldfs[y_val]\n",
    "    plt.figure(figsize=(15,5))\n",
    "    plt.scatter(x,y)\n",
    "    plt.xticks(rotation =90)\n",
    "    #plt.title(plot_title + \" \"+ datetime.today().strftime(\"%m/%d/%y\"))"
   ]
  },
  {
   "cell_type": "code",
   "execution_count": null,
   "metadata": {},
   "outputs": [],
   "source": [
    "plot_chart(\"City Name\",\"Average Cost of Living \")"
   ]
  },
  {
   "cell_type": "code",
   "execution_count": null,
   "metadata": {},
   "outputs": [],
   "source": [
    "x_value = alldfs[\"City Name\"]\n",
    "y_value = alldfs[\"Average Cost of Living \"].astype(float)\n",
    "plt.figure(figsize= (15,5))\n",
    "plt.bar(x_value,y_value)\n",
    "plt.plot(x_value,y_value,color=\"r\")\n",
    "plt.xticks(rotation =90)\n",
    "plt.show()"
   ]
  }
 ],
 "metadata": {
  "kernelspec": {
   "display_name": "Python 3",
   "language": "python",
   "name": "python3"
  },
  "language_info": {
   "codemirror_mode": {
    "name": "ipython",
    "version": 3
   },
   "file_extension": ".py",
   "mimetype": "text/x-python",
   "name": "python",
   "nbconvert_exporter": "python",
   "pygments_lexer": "ipython3",
   "version": "3.8.5"
  }
 },
 "nbformat": 4,
 "nbformat_minor": 4
}
