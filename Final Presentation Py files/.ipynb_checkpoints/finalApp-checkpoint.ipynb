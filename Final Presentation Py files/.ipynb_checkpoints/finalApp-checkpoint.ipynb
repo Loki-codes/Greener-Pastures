{
 "cells": [
  {
   "cell_type": "code",
   "execution_count": null,
   "metadata": {},
   "outputs": [],
   "source": [
    "#Import section\n",
    "import matplotlib.pyplot as plt\n",
    "import matplotlib.image as mpimg\n"
   ]
  },
  {
   "cell_type": "code",
   "execution_count": null,
   "metadata": {},
   "outputs": [],
   "source": [
    "#All functions for program\n",
    "def jbReq():\n",
    "    input(\"Which career field are you looking for information on?  Please input the career ID #: \") \n",
    "    \n",
    "def display():\n",
    "    try:\n",
    "        row = int(jbReq)\n",
    "        print(f\"The top five cities for your career choice are: {career_info_table.iloc[row, \"Top Five\"]}\")\n",
    "        print(f\"Here are pertinant graphs about each city.{plt.imshow(mpimg.imread(row['imageId']))}\")\n",
    "        print(f\"Here are your top five cities ranked by dogs per person{career_info_table.iloc[row, \"Dog Top Five\"]}\")\n",
    "\n",
    "    except:\n",
    "        print(\"No career found with that ID # please reference the list above and try again.\")\n",
    "        jbReq()\n",
    "      "
   ]
  },
  {
   "cell_type": "code",
   "execution_count": null,
   "metadata": {},
   "outputs": [],
   "source": [
    "#This cell will print out the list of possible career choices\n",
    "print(careerList)"
   ]
  },
  {
   "cell_type": "code",
   "execution_count": null,
   "metadata": {
    "scrolled": true
   },
   "outputs": [],
   "source": [
    "#This cell takes in the user input\n",
    "\n",
    "jbReq()"
   ]
  },
  {
   "cell_type": "code",
   "execution_count": null,
   "metadata": {},
   "outputs": [],
   "source": [
    "#Final cell uses text input to output final information presentation\n",
    "display()"
   ]
  },
  {
   "cell_type": "code",
   "execution_count": null,
   "metadata": {},
   "outputs": [],
   "source": []
  }
 ],
 "metadata": {
  "kernelspec": {
   "display_name": "Python 3",
   "language": "python",
   "name": "python3"
  },
  "language_info": {
   "codemirror_mode": {
    "name": "ipython",
    "version": 3
   },
   "file_extension": ".py",
   "mimetype": "text/x-python",
   "name": "python",
   "nbconvert_exporter": "python",
   "pygments_lexer": "ipython3",
   "version": "3.8.5"
  }
 },
 "nbformat": 4,
 "nbformat_minor": 4
}
