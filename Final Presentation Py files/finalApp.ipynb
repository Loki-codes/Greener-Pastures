{
 "cells": [
  {
   "cell_type": "code",
   "execution_count": 2,
   "metadata": {},
   "outputs": [],
   "source": [
    "#Import section\n",
    "import matplotlib.pyplot as plt\n",
    "import matplotlib.image as mpimg\n",
    "\n",
    "#import MegaDf"
   ]
  },
  {
   "cell_type": "code",
   "execution_count": 13,
   "metadata": {},
   "outputs": [],
   "source": [
    "#All functions for program\n",
    "careerList = {\"1\": \"moose\", '2': \"Dog\"}\n",
    "x = \"\"\n",
    "def jbReq():\n",
    "    global x\n",
    "    print(careerList)\n",
    "    x = input(\"Which career field are you looking for information on?  Please input the career ID #: \") \n",
    "    \n",
    "# def display():\n",
    "    try:\n",
    "        careerList[x]\n",
    "    except:\n",
    "        print(\"No career found with that ID # please reference the list above and try again.\")\n",
    "        jbReq()\n",
    "        #display()\n",
    "      \n",
    "        #row = int(jbReq)\n",
    "#          print(f\"The top five cities for your career choice are: {career_info_table.iloc[row, \"Top Five\"]}\")\n",
    "#         print(f\"Here are pertinant graphs about each city.{plt.imshow(mpimg.imread(row['imageId']))}\")\n",
    "#         print(f\"Here are your top five cities ranked by dogs per person{career_info_table.iloc[row, \"Dog Top Five\"]}\")\n",
    "\n"
   ]
  },
  {
   "cell_type": "code",
   "execution_count": 15,
   "metadata": {
    "scrolled": true
   },
   "outputs": [
    {
     "name": "stdout",
     "output_type": "stream",
     "text": [
      "{'1': 'moose', '2': 'Dog'}\n",
      "Which career field are you looking for information on?  Please input the career ID #: 3\n",
      "No career found with that ID # please reference the list above and try again.\n",
      "{'1': 'moose', '2': 'Dog'}\n",
      "Which career field are you looking for information on?  Please input the career ID #: 2\n"
     ]
    }
   ],
   "source": [
    "#This cell takes in the user input\n",
    "\n",
    "jbReq()"
   ]
  },
  {
   "cell_type": "code",
   "execution_count": null,
   "metadata": {},
   "outputs": [],
   "source": [
    "# reduce the Df  to just one occupation and display info for all cities. \n"
   ]
  },
  {
   "cell_type": "code",
   "execution_count": null,
   "metadata": {},
   "outputs": [],
   "source": [
    "#sort top five by mwe for occupation requested."
   ]
  },
  {
   "cell_type": "code",
   "execution_count": null,
   "metadata": {},
   "outputs": [],
   "source": [
    "#what about the other statistics while considering mwe"
   ]
  },
  {
   "cell_type": "code",
   "execution_count": null,
   "metadata": {},
   "outputs": [],
   "source": [
    "#Rank the other stats and display along with the top five for this occupation"
   ]
  },
  {
   "cell_type": "code",
   "execution_count": null,
   "metadata": {},
   "outputs": [],
   "source": [
    "#assign a global rank(remove the local rank)"
   ]
  },
  {
   "cell_type": "code",
   "execution_count": null,
   "metadata": {},
   "outputs": [],
   "source": [
    "#marker map + heat map display"
   ]
  }
 ],
 "metadata": {
  "kernelspec": {
   "display_name": "Python 3",
   "language": "python",
   "name": "python3"
  },
  "language_info": {
   "codemirror_mode": {
    "name": "ipython",
    "version": 3
   },
   "file_extension": ".py",
   "mimetype": "text/x-python",
   "name": "python",
   "nbconvert_exporter": "python",
   "pygments_lexer": "ipython3",
   "version": "3.8.5"
  }
 },
 "nbformat": 4,
 "nbformat_minor": 4
}
